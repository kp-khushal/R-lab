{
  "nbformat": 4,
  "nbformat_minor": 0,
  "metadata": {
    "colab": {
      "name": "viva.ipynb",
      "provenance": [],
      "collapsed_sections": []
    },
    "kernelspec": {
      "name": "ir",
      "display_name": "R"
    },
    "language_info": {
      "name": "R"
    }
  },
  "cells": [
    {
      "cell_type": "code",
      "metadata": {
        "id": "zeXYUeR-oDJf"
      },
      "source": [
        "id <- \"\" # google file ID\n",
        "data <- read.csv(sprintf(\"https://docs.google.com/uc?id=%s&export=download\", id), na.strings=c(\"\",\"NA\"))"
      ],
      "execution_count": null,
      "outputs": []
    },
    {
      "cell_type": "markdown",
      "metadata": {
        "id": "QKJZckuexd8j"
      },
      "source": [
        "Task Number 1:"
      ]
    },
    {
      "cell_type": "code",
      "metadata": {
        "colab": {
          "base_uri": "https://localhost:8080/",
          "height": 765
        },
        "id": "0n_VHIJzpD6s",
        "outputId": "dac50c16-7f68-40ab-92f2-8fee281d0eb0"
      },
      "source": [
        "# a. summarize the entire data using apropriate R Command.\n",
        "library(dplyr)\n",
        "\n",
        "summary(data)\n"
      ],
      "execution_count": null,
      "outputs": [
        {
          "output_type": "stream",
          "text": [
            "Rows: 303\n",
            "Columns: 14\n",
            "$ age      \u001b[3m\u001b[90m<int>\u001b[39m\u001b[23m 63, 37, 41, 56, 57, 57, 56, 44, 52, 57, 54, 48, 49, 64, 58, 5…\n",
            "$ sex      \u001b[3m\u001b[90m<int>\u001b[39m\u001b[23m 1, 1, 0, 1, 0, 1, 0, 1, 1, 1, 1, 0, 1, 1, 0, 0, 0, 0, 1, 0, 1…\n",
            "$ cp       \u001b[3m\u001b[90m<int>\u001b[39m\u001b[23m 3, 2, 1, 1, 0, 0, 1, 1, 2, 2, 0, 2, 1, 3, 3, 2, 2, 3, 0, 3, 0…\n",
            "$ trestbps \u001b[3m\u001b[90m<int>\u001b[39m\u001b[23m 145, 130, 130, 120, 120, 140, 140, 120, 172, 150, 140, 130, 1…\n",
            "$ chol     \u001b[3m\u001b[90m<int>\u001b[39m\u001b[23m 233, 250, 204, 236, 354, 192, 294, 263, 199, 168, 239, 275, 2…\n",
            "$ fbs      \u001b[3m\u001b[90m<int>\u001b[39m\u001b[23m 1, 0, 0, 0, 0, 0, 0, 0, 1, 0, 0, 0, 0, 0, 1, 0, 0, 0, 0, 0, 0…\n",
            "$ restecg  \u001b[3m\u001b[90m<int>\u001b[39m\u001b[23m 0, 1, 0, 1, 1, 1, 0, 1, 1, 1, 1, 1, 1, 0, 0, 1, 1, 1, 1, 1, 1…\n",
            "$ thalach  \u001b[3m\u001b[90m<int>\u001b[39m\u001b[23m 150, 187, 172, 178, 163, 148, 153, 173, 162, 174, 160, 139, 1…\n",
            "$ exang    \u001b[3m\u001b[90m<int>\u001b[39m\u001b[23m 0, 0, 0, 0, 1, 0, 0, 0, 0, 0, 0, 0, 0, 1, 0, 0, 0, 0, 0, 0, 0…\n",
            "$ oldpeak  \u001b[3m\u001b[90m<dbl>\u001b[39m\u001b[23m 2.3, 3.5, 1.4, 0.8, 0.6, 0.4, 1.3, 0.0, 0.5, 1.6, 1.2, 0.2, 0…\n",
            "$ slope    \u001b[3m\u001b[90m<int>\u001b[39m\u001b[23m 0, 0, 2, 2, 2, 1, 1, 2, 2, 2, 2, 2, 2, 1, 2, 1, 2, 0, 2, 2, 1…\n",
            "$ ca       \u001b[3m\u001b[90m<int>\u001b[39m\u001b[23m 0, 0, 0, 0, 0, 0, 0, 0, 0, 0, 0, 0, 0, 0, 0, 0, 0, 0, 0, 2, 0…\n",
            "$ thal     \u001b[3m\u001b[90m<int>\u001b[39m\u001b[23m 1, 2, 2, 2, 2, 1, 2, 3, 3, 2, 2, 2, 2, 2, 2, 2, 2, 2, 2, 2, 3…\n",
            "$ target   \u001b[3m\u001b[90m<int>\u001b[39m\u001b[23m 1, 1, 1, 1, 1, 1, 1, 1, 1, 1, 1, 1, 1, 1, 1, 1, 1, 1, 1, 1, 1…\n"
          ],
          "name": "stdout"
        },
        {
          "output_type": "display_data",
          "data": {
            "text/plain": [
              "      age             sex               cp           trestbps    \n",
              " Min.   :29.00   Min.   :0.0000   Min.   :0.000   Min.   : 94.0  \n",
              " 1st Qu.:47.50   1st Qu.:0.0000   1st Qu.:0.000   1st Qu.:120.0  \n",
              " Median :55.00   Median :1.0000   Median :1.000   Median :130.0  \n",
              " Mean   :54.37   Mean   :0.6832   Mean   :0.967   Mean   :131.6  \n",
              " 3rd Qu.:61.00   3rd Qu.:1.0000   3rd Qu.:2.000   3rd Qu.:140.0  \n",
              " Max.   :77.00   Max.   :1.0000   Max.   :3.000   Max.   :200.0  \n",
              "      chol            fbs            restecg          thalach     \n",
              " Min.   :126.0   Min.   :0.0000   Min.   :0.0000   Min.   : 71.0  \n",
              " 1st Qu.:211.0   1st Qu.:0.0000   1st Qu.:0.0000   1st Qu.:133.5  \n",
              " Median :240.0   Median :0.0000   Median :1.0000   Median :153.0  \n",
              " Mean   :246.3   Mean   :0.1485   Mean   :0.5281   Mean   :149.6  \n",
              " 3rd Qu.:274.5   3rd Qu.:0.0000   3rd Qu.:1.0000   3rd Qu.:166.0  \n",
              " Max.   :564.0   Max.   :1.0000   Max.   :2.0000   Max.   :202.0  \n",
              "     exang           oldpeak         slope             ca        \n",
              " Min.   :0.0000   Min.   :0.00   Min.   :0.000   Min.   :0.0000  \n",
              " 1st Qu.:0.0000   1st Qu.:0.00   1st Qu.:1.000   1st Qu.:0.0000  \n",
              " Median :0.0000   Median :0.80   Median :1.000   Median :0.0000  \n",
              " Mean   :0.3267   Mean   :1.04   Mean   :1.399   Mean   :0.7294  \n",
              " 3rd Qu.:1.0000   3rd Qu.:1.60   3rd Qu.:2.000   3rd Qu.:1.0000  \n",
              " Max.   :1.0000   Max.   :6.20   Max.   :2.000   Max.   :4.0000  \n",
              "      thal           target      \n",
              " Min.   :0.000   Min.   :0.0000  \n",
              " 1st Qu.:2.000   1st Qu.:0.0000  \n",
              " Median :2.000   Median :1.0000  \n",
              " Mean   :2.314   Mean   :0.5446  \n",
              " 3rd Qu.:3.000   3rd Qu.:1.0000  \n",
              " Max.   :3.000   Max.   :1.0000  "
            ]
          },
          "metadata": {
            "tags": []
          }
        }
      ]
    },
    {
      "cell_type": "code",
      "metadata": {
        "colab": {
          "base_uri": "https://localhost:8080/",
          "height": 34
        },
        "id": "R9b0CtBwuSqn",
        "outputId": "1c2adaa8-ec64-4f79-a090-4e22ff3ab318"
      },
      "source": [
        "# b. show class of variable holding data\n",
        "class(data)"
      ],
      "execution_count": null,
      "outputs": [
        {
          "output_type": "display_data",
          "data": {
            "text/plain": [
              "[1] \"data.frame\""
            ],
            "text/latex": "'data.frame'",
            "text/markdown": "'data.frame'",
            "text/html": [
              "'data.frame'"
            ]
          },
          "metadata": {
            "tags": []
          }
        }
      ]
    },
    {
      "cell_type": "code",
      "metadata": {
        "colab": {
          "base_uri": "https://localhost:8080/",
          "height": 272
        },
        "id": "CW0ywWvkvJKE",
        "outputId": "4d11a79e-6525-452e-ff62-91d351017461"
      },
      "source": [
        "# c. Obtain 5 point statistical summary for all attributes\n",
        "paste('Min.Lower.Medain.Upper.Max')\n",
        "fivenum(data$age)\n",
        "fivenum(data$sex)\n",
        "fivenum(data$cp)\n",
        "fivenum(data$trestbps)\n",
        "fivenum(data$chol)\n",
        "fivenum(data$fbs)\n",
        "fivenum(data$restecg)\n",
        "fivenum(data$thalach)\n",
        "fivenum(data$exang)\n",
        "fivenum(data$oldpeak)\n",
        "fivenum(data$slope)\n",
        "fivenum(data$ca)\n",
        "fivenum(data$thal)\n",
        "fivenum(data$target)\n"
      ],
      "execution_count": null,
      "outputs": [
        {
          "output_type": "display_data",
          "data": {
            "text/plain": [
              "[1] \"Min.Lower.Medain.Upper.Max\""
            ],
            "text/latex": "'Min.Lower.Medain.Upper.Max'",
            "text/markdown": "'Min.Lower.Medain.Upper.Max'",
            "text/html": [
              "'Min.Lower.Medain.Upper.Max'"
            ]
          },
          "metadata": {
            "tags": []
          }
        },
        {
          "output_type": "display_data",
          "data": {
            "text/plain": [
              "[1] 29.0 47.5 55.0 61.0 77.0"
            ],
            "text/latex": "\\begin{enumerate*}\n\\item 29\n\\item 47.5\n\\item 55\n\\item 61\n\\item 77\n\\end{enumerate*}\n",
            "text/markdown": "1. 29\n2. 47.5\n3. 55\n4. 61\n5. 77\n\n\n",
            "text/html": [
              "<style>\n",
              ".list-inline {list-style: none; margin:0; padding: 0}\n",
              ".list-inline>li {display: inline-block}\n",
              ".list-inline>li:not(:last-child)::after {content: \"\\00b7\"; padding: 0 .5ex}\n",
              "</style>\n",
              "<ol class=list-inline><li>29</li><li>47.5</li><li>55</li><li>61</li><li>77</li></ol>\n"
            ]
          },
          "metadata": {
            "tags": []
          }
        },
        {
          "output_type": "display_data",
          "data": {
            "text/plain": [
              "[1] 0 0 1 1 1"
            ],
            "text/latex": "\\begin{enumerate*}\n\\item 0\n\\item 0\n\\item 1\n\\item 1\n\\item 1\n\\end{enumerate*}\n",
            "text/markdown": "1. 0\n2. 0\n3. 1\n4. 1\n5. 1\n\n\n",
            "text/html": [
              "<style>\n",
              ".list-inline {list-style: none; margin:0; padding: 0}\n",
              ".list-inline>li {display: inline-block}\n",
              ".list-inline>li:not(:last-child)::after {content: \"\\00b7\"; padding: 0 .5ex}\n",
              "</style>\n",
              "<ol class=list-inline><li>0</li><li>0</li><li>1</li><li>1</li><li>1</li></ol>\n"
            ]
          },
          "metadata": {
            "tags": []
          }
        },
        {
          "output_type": "display_data",
          "data": {
            "text/plain": [
              "[1] 0 0 1 2 3"
            ],
            "text/latex": "\\begin{enumerate*}\n\\item 0\n\\item 0\n\\item 1\n\\item 2\n\\item 3\n\\end{enumerate*}\n",
            "text/markdown": "1. 0\n2. 0\n3. 1\n4. 2\n5. 3\n\n\n",
            "text/html": [
              "<style>\n",
              ".list-inline {list-style: none; margin:0; padding: 0}\n",
              ".list-inline>li {display: inline-block}\n",
              ".list-inline>li:not(:last-child)::after {content: \"\\00b7\"; padding: 0 .5ex}\n",
              "</style>\n",
              "<ol class=list-inline><li>0</li><li>0</li><li>1</li><li>2</li><li>3</li></ol>\n"
            ]
          },
          "metadata": {
            "tags": []
          }
        },
        {
          "output_type": "display_data",
          "data": {
            "text/plain": [
              "[1]  94 120 130 140 200"
            ],
            "text/latex": "\\begin{enumerate*}\n\\item 94\n\\item 120\n\\item 130\n\\item 140\n\\item 200\n\\end{enumerate*}\n",
            "text/markdown": "1. 94\n2. 120\n3. 130\n4. 140\n5. 200\n\n\n",
            "text/html": [
              "<style>\n",
              ".list-inline {list-style: none; margin:0; padding: 0}\n",
              ".list-inline>li {display: inline-block}\n",
              ".list-inline>li:not(:last-child)::after {content: \"\\00b7\"; padding: 0 .5ex}\n",
              "</style>\n",
              "<ol class=list-inline><li>94</li><li>120</li><li>130</li><li>140</li><li>200</li></ol>\n"
            ]
          },
          "metadata": {
            "tags": []
          }
        },
        {
          "output_type": "display_data",
          "data": {
            "text/plain": [
              "[1] 126.0 211.0 240.0 274.5 564.0"
            ],
            "text/latex": "\\begin{enumerate*}\n\\item 126\n\\item 211\n\\item 240\n\\item 274.5\n\\item 564\n\\end{enumerate*}\n",
            "text/markdown": "1. 126\n2. 211\n3. 240\n4. 274.5\n5. 564\n\n\n",
            "text/html": [
              "<style>\n",
              ".list-inline {list-style: none; margin:0; padding: 0}\n",
              ".list-inline>li {display: inline-block}\n",
              ".list-inline>li:not(:last-child)::after {content: \"\\00b7\"; padding: 0 .5ex}\n",
              "</style>\n",
              "<ol class=list-inline><li>126</li><li>211</li><li>240</li><li>274.5</li><li>564</li></ol>\n"
            ]
          },
          "metadata": {
            "tags": []
          }
        },
        {
          "output_type": "display_data",
          "data": {
            "text/plain": [
              "[1] 0 0 0 0 1"
            ],
            "text/latex": "\\begin{enumerate*}\n\\item 0\n\\item 0\n\\item 0\n\\item 0\n\\item 1\n\\end{enumerate*}\n",
            "text/markdown": "1. 0\n2. 0\n3. 0\n4. 0\n5. 1\n\n\n",
            "text/html": [
              "<style>\n",
              ".list-inline {list-style: none; margin:0; padding: 0}\n",
              ".list-inline>li {display: inline-block}\n",
              ".list-inline>li:not(:last-child)::after {content: \"\\00b7\"; padding: 0 .5ex}\n",
              "</style>\n",
              "<ol class=list-inline><li>0</li><li>0</li><li>0</li><li>0</li><li>1</li></ol>\n"
            ]
          },
          "metadata": {
            "tags": []
          }
        },
        {
          "output_type": "display_data",
          "data": {
            "text/plain": [
              "[1] 0 0 1 1 2"
            ],
            "text/latex": "\\begin{enumerate*}\n\\item 0\n\\item 0\n\\item 1\n\\item 1\n\\item 2\n\\end{enumerate*}\n",
            "text/markdown": "1. 0\n2. 0\n3. 1\n4. 1\n5. 2\n\n\n",
            "text/html": [
              "<style>\n",
              ".list-inline {list-style: none; margin:0; padding: 0}\n",
              ".list-inline>li {display: inline-block}\n",
              ".list-inline>li:not(:last-child)::after {content: \"\\00b7\"; padding: 0 .5ex}\n",
              "</style>\n",
              "<ol class=list-inline><li>0</li><li>0</li><li>1</li><li>1</li><li>2</li></ol>\n"
            ]
          },
          "metadata": {
            "tags": []
          }
        },
        {
          "output_type": "display_data",
          "data": {
            "text/plain": [
              "[1]  71.0 133.5 153.0 166.0 202.0"
            ],
            "text/latex": "\\begin{enumerate*}\n\\item 71\n\\item 133.5\n\\item 153\n\\item 166\n\\item 202\n\\end{enumerate*}\n",
            "text/markdown": "1. 71\n2. 133.5\n3. 153\n4. 166\n5. 202\n\n\n",
            "text/html": [
              "<style>\n",
              ".list-inline {list-style: none; margin:0; padding: 0}\n",
              ".list-inline>li {display: inline-block}\n",
              ".list-inline>li:not(:last-child)::after {content: \"\\00b7\"; padding: 0 .5ex}\n",
              "</style>\n",
              "<ol class=list-inline><li>71</li><li>133.5</li><li>153</li><li>166</li><li>202</li></ol>\n"
            ]
          },
          "metadata": {
            "tags": []
          }
        },
        {
          "output_type": "display_data",
          "data": {
            "text/plain": [
              "[1] 0 0 0 1 1"
            ],
            "text/latex": "\\begin{enumerate*}\n\\item 0\n\\item 0\n\\item 0\n\\item 1\n\\item 1\n\\end{enumerate*}\n",
            "text/markdown": "1. 0\n2. 0\n3. 0\n4. 1\n5. 1\n\n\n",
            "text/html": [
              "<style>\n",
              ".list-inline {list-style: none; margin:0; padding: 0}\n",
              ".list-inline>li {display: inline-block}\n",
              ".list-inline>li:not(:last-child)::after {content: \"\\00b7\"; padding: 0 .5ex}\n",
              "</style>\n",
              "<ol class=list-inline><li>0</li><li>0</li><li>0</li><li>1</li><li>1</li></ol>\n"
            ]
          },
          "metadata": {
            "tags": []
          }
        },
        {
          "output_type": "display_data",
          "data": {
            "text/plain": [
              "[1] 0.0 0.0 0.8 1.6 6.2"
            ],
            "text/latex": "\\begin{enumerate*}\n\\item 0\n\\item 0\n\\item 0.8\n\\item 1.6\n\\item 6.2\n\\end{enumerate*}\n",
            "text/markdown": "1. 0\n2. 0\n3. 0.8\n4. 1.6\n5. 6.2\n\n\n",
            "text/html": [
              "<style>\n",
              ".list-inline {list-style: none; margin:0; padding: 0}\n",
              ".list-inline>li {display: inline-block}\n",
              ".list-inline>li:not(:last-child)::after {content: \"\\00b7\"; padding: 0 .5ex}\n",
              "</style>\n",
              "<ol class=list-inline><li>0</li><li>0</li><li>0.8</li><li>1.6</li><li>6.2</li></ol>\n"
            ]
          },
          "metadata": {
            "tags": []
          }
        },
        {
          "output_type": "display_data",
          "data": {
            "text/plain": [
              "[1] 0 1 1 2 2"
            ],
            "text/latex": "\\begin{enumerate*}\n\\item 0\n\\item 1\n\\item 1\n\\item 2\n\\item 2\n\\end{enumerate*}\n",
            "text/markdown": "1. 0\n2. 1\n3. 1\n4. 2\n5. 2\n\n\n",
            "text/html": [
              "<style>\n",
              ".list-inline {list-style: none; margin:0; padding: 0}\n",
              ".list-inline>li {display: inline-block}\n",
              ".list-inline>li:not(:last-child)::after {content: \"\\00b7\"; padding: 0 .5ex}\n",
              "</style>\n",
              "<ol class=list-inline><li>0</li><li>1</li><li>1</li><li>2</li><li>2</li></ol>\n"
            ]
          },
          "metadata": {
            "tags": []
          }
        },
        {
          "output_type": "display_data",
          "data": {
            "text/plain": [
              "[1] 0 0 0 1 4"
            ],
            "text/latex": "\\begin{enumerate*}\n\\item 0\n\\item 0\n\\item 0\n\\item 1\n\\item 4\n\\end{enumerate*}\n",
            "text/markdown": "1. 0\n2. 0\n3. 0\n4. 1\n5. 4\n\n\n",
            "text/html": [
              "<style>\n",
              ".list-inline {list-style: none; margin:0; padding: 0}\n",
              ".list-inline>li {display: inline-block}\n",
              ".list-inline>li:not(:last-child)::after {content: \"\\00b7\"; padding: 0 .5ex}\n",
              "</style>\n",
              "<ol class=list-inline><li>0</li><li>0</li><li>0</li><li>1</li><li>4</li></ol>\n"
            ]
          },
          "metadata": {
            "tags": []
          }
        },
        {
          "output_type": "display_data",
          "data": {
            "text/plain": [
              "[1] 0 2 2 3 3"
            ],
            "text/latex": "\\begin{enumerate*}\n\\item 0\n\\item 2\n\\item 2\n\\item 3\n\\item 3\n\\end{enumerate*}\n",
            "text/markdown": "1. 0\n2. 2\n3. 2\n4. 3\n5. 3\n\n\n",
            "text/html": [
              "<style>\n",
              ".list-inline {list-style: none; margin:0; padding: 0}\n",
              ".list-inline>li {display: inline-block}\n",
              ".list-inline>li:not(:last-child)::after {content: \"\\00b7\"; padding: 0 .5ex}\n",
              "</style>\n",
              "<ol class=list-inline><li>0</li><li>2</li><li>2</li><li>3</li><li>3</li></ol>\n"
            ]
          },
          "metadata": {
            "tags": []
          }
        },
        {
          "output_type": "display_data",
          "data": {
            "text/plain": [
              "[1] 0 0 1 1 1"
            ],
            "text/latex": "\\begin{enumerate*}\n\\item 0\n\\item 0\n\\item 1\n\\item 1\n\\item 1\n\\end{enumerate*}\n",
            "text/markdown": "1. 0\n2. 0\n3. 1\n4. 1\n5. 1\n\n\n",
            "text/html": [
              "<style>\n",
              ".list-inline {list-style: none; margin:0; padding: 0}\n",
              ".list-inline>li {display: inline-block}\n",
              ".list-inline>li:not(:last-child)::after {content: \"\\00b7\"; padding: 0 .5ex}\n",
              "</style>\n",
              "<ol class=list-inline><li>0</li><li>0</li><li>1</li><li>1</li><li>1</li></ol>\n"
            ]
          },
          "metadata": {
            "tags": []
          }
        }
      ]
    },
    {
      "cell_type": "code",
      "metadata": {
        "colab": {
          "base_uri": "https://localhost:8080/",
          "height": 255
        },
        "id": "H76V4M8fvb9N",
        "outputId": "8656fa09-96f6-45dd-bbb4-0e6c5e9a8779"
      },
      "source": [
        "# d. select any 2 atributes that are continuous valued and create a subset of original data with only those columns. \n",
        "# (e.g. sample_data(col1,col2, col3) is stored in variable my_data where as variable data_slice has only col2 and col3 and no other columns. Num of rows in both must be same.)\n",
        "\n",
        "\n",
        "data_slice <- data %>% select(age:fbs)\n",
        "summary(data_slice)"
      ],
      "execution_count": null,
      "outputs": [
        {
          "output_type": "display_data",
          "data": {
            "text/plain": [
              "      age             sex               cp           trestbps    \n",
              " Min.   :29.00   Min.   :0.0000   Min.   :0.000   Min.   : 94.0  \n",
              " 1st Qu.:47.50   1st Qu.:0.0000   1st Qu.:0.000   1st Qu.:120.0  \n",
              " Median :55.00   Median :1.0000   Median :1.000   Median :130.0  \n",
              " Mean   :54.37   Mean   :0.6832   Mean   :0.967   Mean   :131.6  \n",
              " 3rd Qu.:61.00   3rd Qu.:1.0000   3rd Qu.:2.000   3rd Qu.:140.0  \n",
              " Max.   :77.00   Max.   :1.0000   Max.   :3.000   Max.   :200.0  \n",
              "      chol            fbs        \n",
              " Min.   :126.0   Min.   :0.0000  \n",
              " 1st Qu.:211.0   1st Qu.:0.0000  \n",
              " Median :240.0   Median :0.0000  \n",
              " Mean   :246.3   Mean   :0.1485  \n",
              " 3rd Qu.:274.5   3rd Qu.:0.0000  \n",
              " Max.   :564.0   Max.   :1.0000  "
            ]
          },
          "metadata": {
            "tags": []
          }
        }
      ]
    },
    {
      "cell_type": "code",
      "metadata": {
        "colab": {
          "base_uri": "https://localhost:8080/",
          "height": 34
        },
        "id": "cUV2vjEqxAaU",
        "outputId": "30d1d3ee-9aa1-4863-ce09-ec5e06425fe0"
      },
      "source": [
        "# e. Write R function to sample tuples starting at index N to N+m from any data set provided.\n",
        "bb <- data['age']\n",
        "sample(bb[1:10,])\n"
      ],
      "execution_count": null,
      "outputs": [
        {
          "output_type": "display_data",
          "data": {
            "text/plain": [
              " [1] 37 44 63 57 52 57 41 56 56 57"
            ],
            "text/latex": "\\begin{enumerate*}\n\\item 37\n\\item 44\n\\item 63\n\\item 57\n\\item 52\n\\item 57\n\\item 41\n\\item 56\n\\item 56\n\\item 57\n\\end{enumerate*}\n",
            "text/markdown": "1. 37\n2. 44\n3. 63\n4. 57\n5. 52\n6. 57\n7. 41\n8. 56\n9. 56\n10. 57\n\n\n",
            "text/html": [
              "<style>\n",
              ".list-inline {list-style: none; margin:0; padding: 0}\n",
              ".list-inline>li {display: inline-block}\n",
              ".list-inline>li:not(:last-child)::after {content: \"\\00b7\"; padding: 0 .5ex}\n",
              "</style>\n",
              "<ol class=list-inline><li>37</li><li>44</li><li>63</li><li>57</li><li>52</li><li>57</li><li>41</li><li>56</li><li>56</li><li>57</li></ol>\n"
            ]
          },
          "metadata": {
            "tags": []
          }
        }
      ]
    },
    {
      "cell_type": "markdown",
      "metadata": {
        "id": "6uIMM8JtxUxO"
      },
      "source": [
        "Task Number 2: "
      ]
    },
    {
      "cell_type": "code",
      "metadata": {
        "colab": {
          "base_uri": "https://localhost:8080/",
          "height": 51
        },
        "id": "xh3CvoD_xbsr",
        "outputId": "38028b44-387e-4dda-de56-419d142d7ed7"
      },
      "source": [
        "# a. find out how many values are missing in each of the columns of your data set.\n",
        "tar <- data$target\n",
        "sapply(data, function(tar) sum(is.na(tar)))\n"
      ],
      "execution_count": 126,
      "outputs": [
        {
          "output_type": "display_data",
          "data": {
            "text/plain": [
              "     age      sex       cp trestbps     chol      fbs  restecg  thalach \n",
              "       0        0        0        0        0        0        0        0 \n",
              "   exang  oldpeak    slope       ca     thal   target \n",
              "       0        0        0        0        0        0 "
            ],
            "text/latex": "\\begin{description*}\n\\item[age] 0\n\\item[sex] 0\n\\item[cp] 0\n\\item[trestbps] 0\n\\item[chol] 0\n\\item[fbs] 0\n\\item[restecg] 0\n\\item[thalach] 0\n\\item[exang] 0\n\\item[oldpeak] 0\n\\item[slope] 0\n\\item[ca] 0\n\\item[thal] 0\n\\item[target] 0\n\\end{description*}\n",
            "text/markdown": "age\n:   0sex\n:   0cp\n:   0trestbps\n:   0chol\n:   0fbs\n:   0restecg\n:   0thalach\n:   0exang\n:   0oldpeak\n:   0slope\n:   0ca\n:   0thal\n:   0target\n:   0\n\n",
            "text/html": [
              "<style>\n",
              ".dl-inline {width: auto; margin:0; padding: 0}\n",
              ".dl-inline>dt, .dl-inline>dd {float: none; width: auto; display: inline-block}\n",
              ".dl-inline>dt::after {content: \":\\0020\"; padding-right: .5ex}\n",
              ".dl-inline>dt:not(:first-of-type) {padding-left: .5ex}\n",
              "</style><dl class=dl-inline><dt>age</dt><dd>0</dd><dt>sex</dt><dd>0</dd><dt>cp</dt><dd>0</dd><dt>trestbps</dt><dd>0</dd><dt>chol</dt><dd>0</dd><dt>fbs</dt><dd>0</dd><dt>restecg</dt><dd>0</dd><dt>thalach</dt><dd>0</dd><dt>exang</dt><dd>0</dd><dt>oldpeak</dt><dd>0</dd><dt>slope</dt><dd>0</dd><dt>ca</dt><dd>0</dd><dt>thal</dt><dd>0</dd><dt>target</dt><dd>0</dd></dl>\n"
            ]
          },
          "metadata": {
            "tags": []
          }
        }
      ]
    },
    {
      "cell_type": "code",
      "metadata": {
        "id": "l8bzcW6RyxZi"
      },
      "source": [
        "# b. select colum with more than 10% values missing for deletation. Create new copy of dataset\n",
        "# that has one less column call it sample_data_1less.\n",
        "\n",
        "## Remove columns with more than 10% NA\n",
        "dataless1 <-data[, which(colMeans(!is.na(data)) > 0.1)]\n",
        "\n",
        "\n",
        "\n"
      ],
      "execution_count": 127,
      "outputs": []
    },
    {
      "cell_type": "code",
      "metadata": {
        "colab": {
          "base_uri": "https://localhost:8080/",
          "height": 493
        },
        "id": "WgTXGt8KzMz2",
        "outputId": "1b8b00b5-12de-4f2c-f830-a8f9cc7dcc2f"
      },
      "source": [
        "# c. Find 5 point summary of all remaining columns with numric attributes\n",
        "summary(dataless1)\n"
      ],
      "execution_count": 128,
      "outputs": [
        {
          "output_type": "display_data",
          "data": {
            "text/plain": [
              "      age             sex               cp           trestbps    \n",
              " Min.   :29.00   Min.   :0.0000   Min.   :0.000   Min.   : 94.0  \n",
              " 1st Qu.:47.50   1st Qu.:0.0000   1st Qu.:0.000   1st Qu.:120.0  \n",
              " Median :55.00   Median :1.0000   Median :1.000   Median :130.0  \n",
              " Mean   :54.37   Mean   :0.6832   Mean   :0.967   Mean   :131.6  \n",
              " 3rd Qu.:61.00   3rd Qu.:1.0000   3rd Qu.:2.000   3rd Qu.:140.0  \n",
              " Max.   :77.00   Max.   :1.0000   Max.   :3.000   Max.   :200.0  \n",
              "      chol            fbs            restecg          thalach     \n",
              " Min.   :126.0   Min.   :0.0000   Min.   :0.0000   Min.   : 71.0  \n",
              " 1st Qu.:211.0   1st Qu.:0.0000   1st Qu.:0.0000   1st Qu.:133.5  \n",
              " Median :240.0   Median :0.0000   Median :1.0000   Median :153.0  \n",
              " Mean   :246.3   Mean   :0.1485   Mean   :0.5281   Mean   :149.6  \n",
              " 3rd Qu.:274.5   3rd Qu.:0.0000   3rd Qu.:1.0000   3rd Qu.:166.0  \n",
              " Max.   :564.0   Max.   :1.0000   Max.   :2.0000   Max.   :202.0  \n",
              "     exang           oldpeak         slope             ca        \n",
              " Min.   :0.0000   Min.   :0.00   Min.   :0.000   Min.   :0.0000  \n",
              " 1st Qu.:0.0000   1st Qu.:0.00   1st Qu.:1.000   1st Qu.:0.0000  \n",
              " Median :0.0000   Median :0.80   Median :1.000   Median :0.0000  \n",
              " Mean   :0.3267   Mean   :1.04   Mean   :1.399   Mean   :0.7294  \n",
              " 3rd Qu.:1.0000   3rd Qu.:1.60   3rd Qu.:2.000   3rd Qu.:1.0000  \n",
              " Max.   :1.0000   Max.   :6.20   Max.   :2.000   Max.   :4.0000  \n",
              "      thal           target      \n",
              " Min.   :0.000   Min.   :0.0000  \n",
              " 1st Qu.:2.000   1st Qu.:0.0000  \n",
              " Median :2.000   Median :1.0000  \n",
              " Mean   :2.314   Mean   :0.5446  \n",
              " 3rd Qu.:3.000   3rd Qu.:1.0000  \n",
              " Max.   :3.000   Max.   :1.0000  "
            ]
          },
          "metadata": {
            "tags": []
          }
        }
      ]
    },
    {
      "cell_type": "code",
      "metadata": {
        "colab": {
          "base_uri": "https://localhost:8080/",
          "height": 136
        },
        "id": "BtDO-zQBzMk2",
        "outputId": "db697255-8a3a-4586-b1f4-3e592d71cba2"
      },
      "source": [
        "# d. For attribute having maximum spread delete all tuples that have value less than the mean of the\n",
        "# attribute selected. Count the number of tuples reamining in the sampled dataset.\n",
        "\n",
        "m <- mean(data$trestbps, na.rm = FALSE)\n",
        "m\n",
        "\n",
        "df2 <- subset(data, data$trestbps< m)\n",
        "summary(df2$trestbps)\n",
        "print('Rows before row deletion: ')\n",
        "nrow(data)\n",
        "print('Rows before row deletion: ')\n",
        "nrow(df2)\n",
        "\n"
      ],
      "execution_count": null,
      "outputs": [
        {
          "output_type": "display_data",
          "data": {
            "text/plain": [
              "[1] 131.6238"
            ],
            "text/latex": "131.623762376238",
            "text/markdown": "131.623762376238",
            "text/html": [
              "131.623762376238"
            ]
          },
          "metadata": {
            "tags": []
          }
        },
        {
          "output_type": "display_data",
          "data": {
            "text/plain": [
              "   Min. 1st Qu.  Median    Mean 3rd Qu.    Max. \n",
              "   94.0   112.0   120.0   119.6   128.0   130.0 "
            ]
          },
          "metadata": {
            "tags": []
          }
        },
        {
          "output_type": "stream",
          "text": [
            "[1] \"Rows before row deletion: \"\n"
          ],
          "name": "stdout"
        },
        {
          "output_type": "display_data",
          "data": {
            "text/plain": [
              "[1] 303"
            ],
            "text/latex": "303",
            "text/markdown": "303",
            "text/html": [
              "303"
            ]
          },
          "metadata": {
            "tags": []
          }
        },
        {
          "output_type": "stream",
          "text": [
            "[1] \"Rows before row deletion: \"\n"
          ],
          "name": "stdout"
        },
        {
          "output_type": "display_data",
          "data": {
            "text/plain": [
              "[1] 171"
            ],
            "text/latex": "171",
            "text/markdown": "171",
            "text/html": [
              "171"
            ]
          },
          "metadata": {
            "tags": []
          }
        }
      ]
    },
    {
      "cell_type": "markdown",
      "metadata": {
        "id": "0krXS8TU3QSx"
      },
      "source": [
        "Task Number 3:\n"
      ]
    },
    {
      "cell_type": "code",
      "metadata": {
        "colab": {
          "base_uri": "https://localhost:8080/",
          "height": 51
        },
        "id": "7J-pFh1j3VGD",
        "outputId": "1f06e325-b73a-4457-e859-fb0d1062c353"
      },
      "source": [
        "# a. print the 5 point statistical summary for any 2 numeric attributes from your data set\n",
        "fivenum(data$age) \n",
        "fivenum(data$chol)\n"
      ],
      "execution_count": null,
      "outputs": [
        {
          "output_type": "display_data",
          "data": {
            "text/plain": [
              "[1] 29.0 47.5 55.0 61.0 77.0"
            ],
            "text/latex": "\\begin{enumerate*}\n\\item 29\n\\item 47.5\n\\item 55\n\\item 61\n\\item 77\n\\end{enumerate*}\n",
            "text/markdown": "1. 29\n2. 47.5\n3. 55\n4. 61\n5. 77\n\n\n",
            "text/html": [
              "<style>\n",
              ".list-inline {list-style: none; margin:0; padding: 0}\n",
              ".list-inline>li {display: inline-block}\n",
              ".list-inline>li:not(:last-child)::after {content: \"\\00b7\"; padding: 0 .5ex}\n",
              "</style>\n",
              "<ol class=list-inline><li>29</li><li>47.5</li><li>55</li><li>61</li><li>77</li></ol>\n"
            ]
          },
          "metadata": {
            "tags": []
          }
        },
        {
          "output_type": "display_data",
          "data": {
            "text/plain": [
              "[1] 126.0 211.0 240.0 274.5 564.0"
            ],
            "text/latex": "\\begin{enumerate*}\n\\item 126\n\\item 211\n\\item 240\n\\item 274.5\n\\item 564\n\\end{enumerate*}\n",
            "text/markdown": "1. 126\n2. 211\n3. 240\n4. 274.5\n5. 564\n\n\n",
            "text/html": [
              "<style>\n",
              ".list-inline {list-style: none; margin:0; padding: 0}\n",
              ".list-inline>li {display: inline-block}\n",
              ".list-inline>li:not(:last-child)::after {content: \"\\00b7\"; padding: 0 .5ex}\n",
              "</style>\n",
              "<ol class=list-inline><li>126</li><li>211</li><li>240</li><li>274.5</li><li>564</li></ol>\n"
            ]
          },
          "metadata": {
            "tags": []
          }
        }
      ]
    },
    {
      "cell_type": "code",
      "metadata": {
        "colab": {
          "base_uri": "https://localhost:8080/",
          "height": 488
        },
        "id": "N1iYxd4u4VRe",
        "outputId": "bee87a8c-5048-49bb-9dcf-988182849240"
      },
      "source": [
        "# b. select 2 atributes have closest mean value and draw a scatter plot with proper x and labelsloi\n",
        "# ntt and title (for plotting you must use R library functions or gnuplot and not matplotlib )\n",
        "means<- colMeans(data[sapply(data, is.numeric)] )\n",
        "means\n",
        "\n",
        "library(ggplot2)\n",
        "\n",
        "oldpeak<-data$oldpeak\n",
        "slope<-data$slope\n",
        "plot(data$oldpeak , data$slope , main = \"Scatterplot\" , xlab = \"oldpeak\" , ylab = \"slope\" , las = 1 , xlim = c(0,2) , col = 2 )\n",
        "\n",
        "\n"
      ],
      "execution_count": null,
      "outputs": [
        {
          "output_type": "display_data",
          "data": {
            "text/plain": [
              "        age         sex          cp    trestbps        chol         fbs \n",
              " 54.3663366   0.6831683   0.9669967 131.6237624 246.2640264   0.1485149 \n",
              "    restecg     thalach       exang     oldpeak       slope          ca \n",
              "  0.5280528 149.6468647   0.3267327   1.0396040   1.3993399   0.7293729 \n",
              "       thal      target \n",
              "  2.3135314   0.5445545 "
            ],
            "text/latex": "\\begin{description*}\n\\item[age] 54.3663366336634\n\\item[sex] 0.683168316831683\n\\item[cp] 0.966996699669967\n\\item[trestbps] 131.623762376238\n\\item[chol] 246.26402640264\n\\item[fbs] 0.148514851485149\n\\item[restecg] 0.528052805280528\n\\item[thalach] 149.646864686469\n\\item[exang] 0.326732673267327\n\\item[oldpeak] 1.03960396039604\n\\item[slope] 1.3993399339934\n\\item[ca] 0.729372937293729\n\\item[thal] 2.31353135313531\n\\item[target] 0.544554455445545\n\\end{description*}\n",
            "text/markdown": "age\n:   54.3663366336634sex\n:   0.683168316831683cp\n:   0.966996699669967trestbps\n:   131.623762376238chol\n:   246.26402640264fbs\n:   0.148514851485149restecg\n:   0.528052805280528thalach\n:   149.646864686469exang\n:   0.326732673267327oldpeak\n:   1.03960396039604slope\n:   1.3993399339934ca\n:   0.729372937293729thal\n:   2.31353135313531target\n:   0.544554455445545\n\n",
            "text/html": [
              "<style>\n",
              ".dl-inline {width: auto; margin:0; padding: 0}\n",
              ".dl-inline>dt, .dl-inline>dd {float: none; width: auto; display: inline-block}\n",
              ".dl-inline>dt::after {content: \":\\0020\"; padding-right: .5ex}\n",
              ".dl-inline>dt:not(:first-of-type) {padding-left: .5ex}\n",
              "</style><dl class=dl-inline><dt>age</dt><dd>54.3663366336634</dd><dt>sex</dt><dd>0.683168316831683</dd><dt>cp</dt><dd>0.966996699669967</dd><dt>trestbps</dt><dd>131.623762376238</dd><dt>chol</dt><dd>246.26402640264</dd><dt>fbs</dt><dd>0.148514851485149</dd><dt>restecg</dt><dd>0.528052805280528</dd><dt>thalach</dt><dd>149.646864686469</dd><dt>exang</dt><dd>0.326732673267327</dd><dt>oldpeak</dt><dd>1.03960396039604</dd><dt>slope</dt><dd>1.3993399339934</dd><dt>ca</dt><dd>0.729372937293729</dd><dt>thal</dt><dd>2.31353135313531</dd><dt>target</dt><dd>0.544554455445545</dd></dl>\n"
            ]
          },
          "metadata": {
            "tags": []
          }
        },
        {
          "output_type": "display_data",
          "data": {
            "image/png": "[encoded data removed]",
            "text/plain": [
              "Plot with title “Scatterplot”"
            ]
          },
          "metadata": {
            "tags": [],
            "image/png": {
              "width": 420,
              "height": 420
            }
          }
        }
      ]
    },
    {
      "cell_type": "code",
      "metadata": {
        "colab": {
          "base_uri": "https://localhost:8080/",
          "height": 437
        },
        "id": "MfGtKAvk_y5F",
        "outputId": "2bf454df-0b7e-4f30-f0b1-944ad7ffc372"
      },
      "source": [
        "# e. Write a R function to plot histogram of some specific input attribute for any data set provided\n",
        "new.function <- function(oldpeak) {\n",
        "   hist(oldpeak)\n",
        "}\n",
        "\n",
        "new.function(oldpeak)"
      ],
      "execution_count": null,
      "outputs": [
        {
          "output_type": "display_data",
          "data": {
            "image/png": "[encoded data removed]",
            "text/plain": [
              "Plot with title “Histogram of oldpeak”"
            ]
          },
          "metadata": {
            "tags": [],
            "image/png": {
              "width": 420,
              "height": 420
            }
          }
        }
      ]
    },
    {
      "cell_type": "code",
      "metadata": {
        "colab": {
          "base_uri": "https://localhost:8080/",
          "height": 34
        },
        "id": "IxTk0d1fSgF5",
        "outputId": "e9ba1592-16a7-4dab-933b-07c9a1d9dcf2"
      },
      "source": [
        "# c. Find coefficient of correlation using some R library function between above 2 attributes\n",
        "cor(oldpeak,slope, method = c(\"pearson\", \"kendall\", \"spearman\"))"
      ],
      "execution_count": null,
      "outputs": [
        {
          "output_type": "display_data",
          "data": {
            "text/plain": [
              "[1] -0.5775368"
            ],
            "text/latex": "-0.577536816729141",
            "text/markdown": "-0.577536816729141",
            "text/html": [
              "-0.577536816729141"
            ]
          },
          "metadata": {
            "tags": []
          }
        }
      ]
    },
    {
      "cell_type": "code",
      "metadata": {
        "colab": {
          "base_uri": "https://localhost:8080/",
          "height": 437
        },
        "id": "HJErqi-uT7Mc",
        "outputId": "23a38e2d-5ede-4a76-835a-cba5736356ad"
      },
      "source": [
        "boxplot(oldpeak,slope)\n",
        "title(\"oldpeak vs. slope\")"
      ],
      "execution_count": null,
      "outputs": [
        {
          "output_type": "display_data",
          "data": {
            "image/png": "[encoded data removed]",
            "text/plain": [
              "Plot with title “oldpeak vs. slope”"
            ]
          },
          "metadata": {
            "tags": [],
            "image/png": {
              "width": 420,
              "height": 420
            }
          }
        }
      ]
    },
    {
      "cell_type": "code",
      "metadata": {
        "colab": {
          "base_uri": "https://localhost:8080/",
          "height": 437
        },
        "id": "G6bmTqFSXXh5",
        "outputId": "df35d274-8503-4f86-86d6-09897ffe931e"
      },
      "source": [
        "boxplot(oldpeak~slope,data=data, main=\"Box Plot\",\n",
        "   xlab=\"Oldpeak\", ylab=\"Slope\") "
      ],
      "execution_count": null,
      "outputs": [
        {
          "output_type": "display_data",
          "data": {
            "image/png": "[encoded data removed]",
            "text/plain": [
              "Plot with title “Box Plot”"
            ]
          },
          "metadata": {
            "tags": [],
            "image/png": {
              "width": 420,
              "height": 420
            }
          }
        }
      ]
    }
  ]
}